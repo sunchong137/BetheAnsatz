{
 "cells": [
  {
   "cell_type": "markdown",
   "metadata": {},
   "source": [
    "### Bathe-Ansatz at Finite temperature\n",
    "-- Evaluated at half-filling and $S_z = 0$.\n",
    "      (Referece: https://journals.jps.jp/doi/10.1143/JPSJ.59.1357)\n",
    "\n",
    "#### NOTE that U = U/4 here (we first keep the scaling)\n",
    "\n",
    "The grand potential per site is evaluated by\n",
    "\n",
    "\\begin{equation}\n",
    "\\Omega = e_0 - \\mu - \\int_{-\\pi}^{\\pi} \\rho_0(k)G[\\kappa(k)]dk\n",
    " - \\int_{-\\infty}^{\\infty} \\sigma_0(\\Lambda)[\\varepsilon_1^{-}(\\Lambda) - T\\ln b_1^{-}]d\\Lambda\n",
    "\\end{equation}\n",
    "where $e_0$, $\\rho_0(k)$, $\\sigma_0(\\Lambda)$ are ground state quantities that can be evaluated from ground state BA.\n",
    "\n",
    "The other quantities in the integrations are defined as following\n",
    "\n",
    "\\begin{equation}\n",
    "G(y) = T\\ln [1+\\exp(y/T)], \\hspace{0.5cm} b_n^{\\pm} = \\frac{\\sinh^2 x^{\\pm}}{\\sinh^2 (n+1)x^{\\pm}}  \\hspace{0.3cm} \\left(=\\frac{1}{(n+1)^2} \\text{ if } x^{\\pm} = 0\\right)\n",
    "\\end{equation}\n",
    "\n",
    "\\begin{equation}\n",
    "\\kappa(k) = \\kappa_0(k) + T\\ln\\left(\\frac{\\cosh x^+}{\\cosh x^-}\\right) + \\int_{-\\infty}^{\\infty}s(\\Lambda-\\sin k)\n",
    "[\\varepsilon^+_1(\\Lambda)-\\varepsilon^-_1(\\Lambda)] d\\Lambda\n",
    "\\end{equation}\n",
    "\n",
    "where\n",
    "\\begin{equation}\n",
    "\\kappa_0(k) = -2\\cos k - 4\\int_{-\\infty}^{\\infty} s(\\Lambda -\\sin k)\\Re [1 - (\\Lambda - iU)^2]^{1/2} d\\Lambda\n",
    "\\end{equation}\n",
    "\n",
    "\\begin{equation}\n",
    "\\varepsilon_n^{\\pm}(\\Lambda) = T\\ln \\{b_n^{\\pm}+(1-b_n^{\\pm})\\exp[E_n^{\\pm}(\\Lambda)/T]\\} \\hspace{0.3cm} \\text{for} \\hspace{0.3cm} n\\geq 1\n",
    "\\end{equation}\n",
    "\n",
    "\\begin{equation}\n",
    "E_1^{\\pm}(\\Lambda) = s*\\varepsilon_2^{\\pm}(\\Lambda) - \\int_{-\\pi}^{\\pi} \\cos(k)  s(\\Lambda - \\sin k)G[\\pm \\kappa(k)]d k\n",
    "\\end{equation}\n",
    "\n",
    "and \n",
    "\\begin{equation}\n",
    "E_n^{\\pm}(\\Lambda) = s*(\\varepsilon_{n-1}^{\\pm} + \\varepsilon_{n+1}^{\\pm}) \\hspace{0.5cm} \\text{for} \\hspace{0.5cm} n\\geq 2\n",
    "\\end{equation}\n",
    "\n",
    "\\begin{equation}\n",
    "x^+ = (2U-\\mu)/T \\hspace{0.3cm} (=0 \\text{ if half-filling} ), \\hspace{0.5cm} x^- = 0\n",
    "\\end{equation}\n",
    "and\n",
    "\\begin{equation}\n",
    "s*f = \\int_{-\\infty}^{\\infty} s(\\Lambda - \\Lambda')f(\\Lambda')d\\Lambda'\n",
    "\\end{equation}\n",
    "\n",
    "#### Asymptotic conditions\n",
    "\\begin{equation}\n",
    "\\lim_{\\Lambda \\rightarrow \\infty}\\varepsilon_n^{\\pm}(\\Lambda) = 0\n",
    "\\end{equation}\n",
    "\n",
    "\\begin{equation}\n",
    "\\lim_{n\\rightarrow \\infty} \\left[\\varepsilon^{\\pm}_{n+1}(\\Lambda) - \\int_{\\infty}^{\\infty} \\varepsilon_n^{\\pm}(\\Lambda') \\frac{U/\\pi}{(\\Lambda' - \\Lambda)^2 + U^2}d\\Lambda'\\right] = 0\n",
    "\\end{equation}\n",
    "which gives $\\epsilon_n^{\\pm}\\rightarrow 0$ as $n\\rightarrow \\infty$. $n=12$ is quiet enough."
   ]
  },
  {
   "cell_type": "code",
   "execution_count": 91,
   "metadata": {
    "collapsed": true
   },
   "outputs": [],
   "source": [
    "import numpy as np\n",
    "from matplotlib import pyplot as plt\n",
    "%matplotlib inline"
   ]
  },
  {
   "cell_type": "markdown",
   "metadata": {},
   "source": [
    "### Implementation\n",
    "#### 1. Solve ground state\n",
    "half-filling is much easier with the Bessel functions"
   ]
  },
  {
   "cell_type": "markdown",
   "metadata": {},
   "source": [
    "#### 2. Solve for $\\varepsilon_n^{\\pm}$, $E_n^{\\pm}$ and $\\kappa(k)$.\n",
    "\n",
    "First try: \n",
    "1. Initial guess for $E_1^{\\pm}$.\n",
    "2. Solve for $\\varepsilon_n^{\\pm}$, $E_n^{\\pm}$ with $n = 2, ..., N_m$ assuming $\\varepsilon_{n+1}^{\\pm}=0$.\n",
    "3. Solve back with the knowledge of new $\\varepsilon_n^{\\pm}$, $E_n^{\\pm}$.\n",
    "4. Compare $\\varepsilon_1^{\\pm}$ to see if convergence reached.\n"
   ]
  },
  {
   "cell_type": "code",
   "execution_count": 192,
   "metadata": {
    "collapsed": false
   },
   "outputs": [],
   "source": [
    "class BetheAnsatzFT(object):\n",
    "    # half-filling, Sz = 0\n",
    "    def __init__(self, U, T, ngrid):\n",
    "        self.U = U\n",
    "        self.T = T\n",
    "        self.ngrid = ngrid\n",
    "        self.Q = np.pi\n",
    "        self.B = 10\n",
    "        self.kgrid = np.zeros(ngrid)\n",
    "        self.lgrid = np.zeros(ngrid)\n",
    "        self.dk = 2.*self.Q / ngrid\n",
    "        self.dl = 2.*self.B / ngrid\n",
    "        #some functions used in integration functions\n",
    "        self.kappa0 = np.zeros(ngrid)\n",
    "        self.kappa = np.zeros(ngrid)\n",
    "    \n",
    "    def generate_grids(self):\n",
    "        # symmetrized partition\n",
    "        self.kgrid = np.linspace(-self.Q, self.Q, self.ngrid, endpoint=False)\n",
    "        self.lgrid = np.linspace(-self.B, self.B, self.ngrid, endpoint=False)\n",
    "        self.kgrid += self.dk/2.\n",
    "        self.lgrid += self.dl/2.\n",
    "    def sfunc(self, l, k):\n",
    "        self.s = 1./(4.*self.U*np.cosh(np.pi*(l-k)/(2*self.U)))\n",
    "        return self.s\n",
    "    def kappa0func(self):\n",
    "        kappa0 = np.zeros(self.ngrid)\n",
    "        i = 0\n",
    "        for k in self.kgrid:\n",
    "            kappa0[i] = -2.*np.cos(k) - 4.*self.dl*np.dot(self.sfunc(self.lgrid,np.sin(k)),np.sqrt(1.-(self.lgrid-1.j*self.U)**2).real)\n",
    "            i+=1\n",
    "        self.kappa0 = kappa0\n",
    "        return kappa0\n",
    "    def Gfunc(self, y):\n",
    "        return self.T * np.log(1.+np.exp(y/self.T))\n",
    "    def sconvfunc(self, fl):\n",
    "        convf = np.zeros(self.ngrid)\n",
    "        i = 0\n",
    "        for l in self.lgrid:\n",
    "            convf[i] = self.dl*np.dot(self.sfunc(l, self.lgrid), fl)\n",
    "            i += 1\n",
    "        return convf\n",
    "    # functions to be used in self-consistency\n",
    "    def kappafunc(self, eps1p, eps1m):\n",
    "        kappa = np.zeros(self.ngrid)\n",
    "        self.kappa0 = self.kappa0func()\n",
    "        i = 0\n",
    "        for k in self.kgrid:\n",
    "            kappa[i] = self.dl * np.dot(self.sfunc(self.lgrid, np.sin(k)), eps1p-eps1m)\n",
    "            i += 1\n",
    "        self.kappa = kappa + self.kappa0\n",
    "        return self.kappa\n",
    "    \n",
    "    def epsnfunc(self, n, En):\n",
    "        bn = 1./((n+1.)**2)\n",
    "        return self.T * np.log(bn + (1-bn)*np.exp(En/self.T))\n",
    "    def E1func(self, eps2, p=1.):\n",
    "        # p : parity\n",
    "        E1 = np.zeros(self.ngrid)\n",
    "        i = 0\n",
    "        for l in self.lgrid:\n",
    "            E1[i] = -self.dk * np.dot(np.cos(self.kgrid)*self.sfunc(l,np.sin(self.kgrid)), self.Gfunc(p*self.kappa))\n",
    "            i += 1\n",
    "\n",
    "        E1 += self.sconvfunc(eps2)\n",
    "        return E1\n",
    "    def Enfunc(self, epsm, epsp):\n",
    "        return self.sconvfunc(epsm + epsp)\n",
    "   \n",
    "    def solve_epsilon_scf(self, nstep=20, tol = 1e-5):\n",
    "        #E1 = np.random.randn(self.ngrid)*0.5\n",
    "        nmax  = 12\n",
    "        ngrid = self.ngrid\n",
    "        Ep   = np.zeros((nmax+1, ngrid))\n",
    "        Em   = np.zeros((nmax+1, ngrid))\n",
    "        epsp = np.zeros((nmax+1, ngrid))\n",
    "        epsm = np.zeros((nmax+1, ngrid))\n",
    "        # initial guess: eps1p = eps1m, high orders are zero\n",
    "        kappa = self.kappa.copy()\n",
    "        for itr in range(nstep):\n",
    "            self.kappa = self.kappafunc(epsp[0], epsm[0])\n",
    "            Ep[0] = self.E1func(epsp[1], 1.)\n",
    "            Em[0] = self.E1func(epsm[1], -1.)\n",
    "            epsp[0] = self.epsnfunc(1, Ep[0])\n",
    "            epsm[0] = self.epsnfunc(1, Em[0])\n",
    "            for i in range(1, nmax):\n",
    "                Ep[i] = self.sconvfunc(epsp[i-1]+epsp[i+1])\n",
    "                Em[i] = self.sconvfunc(epsm[i-1]+epsm[i+1])\n",
    "                epsp[i] = self.epsnfunc(i+1, Ep[i])\n",
    "                epsm[i] = self.epsnfunc(i+1, Em[i])\n",
    "            diff = np.linalg.norm(self.kappa - kappa)\n",
    "            if diff < tol:\n",
    "                print \"The convergence is achieved after %d loops!\"%(itr+1), \"Final diff:\", diff\n",
    "                break\n",
    "            else:\n",
    "                kappa = self.kappa.copy()\n",
    "        if(itr == nstep):\n",
    "            print \"The convergence is NOT acheived after %d loops\"%nstep\n",
    "        print epsm"
   ]
  },
  {
   "cell_type": "code",
   "execution_count": 193,
   "metadata": {
    "collapsed": false
   },
   "outputs": [
    {
     "name": "stdout",
     "output_type": "stream",
     "text": [
      "The convergence is achieved after 16 loops! Final diff: 8.3396817384e-06\n",
      "[[ -2.93711343e-02  -5.61551144e-02  -1.05333245e-01  -1.90308215e-01\n",
      "   -2.86596802e-01  -2.86596802e-01  -1.90308215e-01  -1.05333245e-01\n",
      "   -5.61551144e-02  -2.93711343e-02]\n",
      " [ -2.96558820e-02  -4.83832396e-02  -7.08796985e-02  -9.37563765e-02\n",
      "   -1.09229753e-01  -1.09229753e-01  -9.37563765e-02  -7.08796985e-02\n",
      "   -4.83832396e-02  -2.96558820e-02]\n",
      " [ -2.03332016e-02  -3.08315221e-02  -4.09851765e-02  -4.93001529e-02\n",
      "   -5.40788138e-02  -5.40788138e-02  -4.93001529e-02  -4.09851765e-02\n",
      "   -3.08315221e-02  -2.03332016e-02]\n",
      " [ -1.24651037e-02  -1.83766537e-02  -2.35794562e-02  -2.74656916e-02\n",
      "   -2.95570107e-02  -2.95570107e-02  -2.74656916e-02  -2.35794562e-02\n",
      "   -1.83766537e-02  -1.24651037e-02]\n",
      " [ -7.40791583e-03  -1.08094948e-02  -1.36944031e-02  -1.57714743e-02\n",
      "   -1.68600574e-02  -1.68600574e-02  -1.57714743e-02  -1.36944031e-02\n",
      "   -1.08094948e-02  -7.40791583e-03]\n",
      " [ -4.37609428e-03  -6.36198941e-03  -8.02323957e-03  -9.20284863e-03\n",
      "   -9.81489169e-03  -9.81489169e-03  -9.20284863e-03  -8.02323957e-03\n",
      "   -6.36198941e-03  -4.37609428e-03]\n",
      " [ -2.58710095e-03  -3.75618937e-03  -4.72930544e-03  -5.41680887e-03\n",
      "   -5.77220986e-03  -5.77220986e-03  -5.41680887e-03  -4.72930544e-03\n",
      "   -3.75618937e-03  -2.58710095e-03]\n",
      " [ -1.53071993e-03  -2.22139893e-03  -2.79527854e-03  -3.19998900e-03\n",
      "   -3.40892474e-03  -3.40892474e-03  -3.19998900e-03  -2.79527854e-03\n",
      "   -2.22139893e-03  -1.53071993e-03]\n",
      " [ -9.02379580e-04  -1.30932718e-03  -1.64724311e-03  -1.88539418e-03\n",
      "   -2.00828400e-03  -2.00828400e-03  -1.88539418e-03  -1.64724311e-03\n",
      "   -1.30932718e-03  -9.02379580e-04]\n",
      " [ -5.23033241e-04  -7.58862216e-04  -9.54643208e-04  -1.09259124e-03\n",
      "   -1.16376278e-03  -1.16376278e-03  -1.09259124e-03  -9.54643208e-04\n",
      "   -7.58862216e-04  -5.23033241e-04]\n",
      " [ -2.86220186e-04  -4.15264787e-04  -5.22386960e-04  -5.97859636e-04\n",
      "   -6.36795986e-04  -6.36795986e-04  -5.97859636e-04  -5.22386960e-04\n",
      "   -4.15264787e-04  -2.86220186e-04]\n",
      " [ -1.26411024e-04  -1.83403186e-04  -2.30712138e-04  -2.64042657e-04\n",
      "   -2.81237532e-04  -2.81237532e-04  -2.64042657e-04  -2.30712138e-04\n",
      "   -1.83403186e-04  -1.26411024e-04]\n",
      " [  0.00000000e+00   0.00000000e+00   0.00000000e+00   0.00000000e+00\n",
      "    0.00000000e+00   0.00000000e+00   0.00000000e+00   0.00000000e+00\n",
      "    0.00000000e+00   0.00000000e+00]]\n"
     ]
    }
   ],
   "source": [
    "baobj = BetheAnsatzFT(4,1,10)\n",
    "baobj.generate_grids()\n",
    "baobj.solve_epsilon_scf()"
   ]
  },
  {
   "cell_type": "code",
   "execution_count": 81,
   "metadata": {
    "collapsed": false
   },
   "outputs": [
    {
     "data": {
      "text/plain": [
       "0.005917159763313609"
      ]
     },
     "execution_count": 81,
     "metadata": {},
     "output_type": "execute_result"
    }
   ],
   "source": [
    "1./(13**2)"
   ]
  },
  {
   "cell_type": "code",
   "execution_count": null,
   "metadata": {
    "collapsed": true
   },
   "outputs": [],
   "source": [
    "exp()"
   ]
  },
  {
   "cell_type": "code",
   "execution_count": 129,
   "metadata": {
    "collapsed": false
   },
   "outputs": [
    {
     "data": {
      "text/plain": [
       "array([0, 2, 6])"
      ]
     },
     "execution_count": 129,
     "metadata": {},
     "output_type": "execute_result"
    }
   ],
   "source": [
    "np.arange(3)*(np.arange(3)+1)"
   ]
  },
  {
   "cell_type": "code",
   "execution_count": null,
   "metadata": {
    "collapsed": true
   },
   "outputs": [],
   "source": []
  }
 ],
 "metadata": {
  "kernelspec": {
   "display_name": "Python [Root]",
   "language": "python",
   "name": "Python [Root]"
  },
  "language_info": {
   "codemirror_mode": {
    "name": "ipython",
    "version": 2
   },
   "file_extension": ".py",
   "mimetype": "text/x-python",
   "name": "python",
   "nbconvert_exporter": "python",
   "pygments_lexer": "ipython2",
   "version": "2.7.12"
  }
 },
 "nbformat": 4,
 "nbformat_minor": 0
}
