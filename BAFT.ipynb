{
 "cells": [
  {
   "cell_type": "markdown",
   "metadata": {},
   "source": [
    "### Bathe-Ansatz at Finite temperature\n",
    "-- Evaluated at half-filling and $S_z = 0$.\n",
    "      (Referece: https://journals.jps.jp/doi/10.1143/JPSJ.59.1357)\n",
    "\n",
    "#### NOTE that U = U/4 here (we first keep the scaling)\n",
    "\n",
    "The grand potential per site is evaluated by\n",
    "\n",
    "\\begin{equation}\n",
    "\\Omega = e_0 - \\mu - \\int_{-\\pi}^{\\pi} \\rho_0(k)G[\\kappa(k)]dk\n",
    " - \\int_{-\\infty}^{\\infty} \\sigma_0(\\Lambda)[\\varepsilon_1^{-}(\\Lambda) - T\\ln b_1^{-}]d\\Lambda\n",
    "\\end{equation}\n",
    "where $e_0$, $\\rho_0(k)$, $\\sigma_0(\\Lambda)$ are ground state quantities that can be evaluated from ground state BA.\n",
    "\n",
    "The other quantities in the integrations are defined as following\n",
    "\n",
    "\\begin{equation}\n",
    "G(y) = T\\ln [1+\\exp(y/T)], \\hspace{0.5cm} b_n^{\\pm} = \\frac{\\sinh^2 x^{\\pm}}{\\sinh^2 (n+1)x^{\\pm}}  \\hspace{0.3cm} \\left(=\\frac{1}{(n+1)^2} \\text{ if } x^{\\pm} = 0\\right)\n",
    "\\end{equation}\n",
    "\n",
    "\\begin{equation}\n",
    "\\varepsilon_n^{\\pm}(\\Lambda) = T\\ln \\{b_n^{\\pm}+(1-b_n^{\\pm})\\exp[E_n^{\\pm}(\\Lambda)/T]\\} \\hspace{0.3cm} \\text{for} \\hspace{0.3cm} n\\geq 1\n",
    "\\end{equation}\n",
    "\n",
    "\\begin{equation}\n",
    "\\kappa(k) = \\kappa_0(k) + T\\ln\\left(\\frac{\\cosh x^+}{\\cosh x^-}\\right) + \\int_{-\\infty}^{\\infty}s(\\Lambda-\\sin k)\n",
    "[\\varepsilon^+_1(\\Lambda)-\\varepsilon^-_1(\\Lambda)] d\\Lambda\n",
    "\\end{equation}\n",
    "\n",
    "\\begin{equation}\n",
    "E_1^{\\pm}(\\Lambda) = s*\\varepsilon_2^{\\pm}(\\Lambda) - \\int_{-\\pi}^{\\pi} \\cos(k)  s(\\Lambda - \\sin k)G[\\pm \\kappa(k)]d k\n",
    "\\end{equation}\n",
    "\n",
    "and \n",
    "\\begin{equation}\n",
    "E_n^{\\pm}(\\Lambda) = s*(\\varepsilon_{n-1}^{\\pm} + \\varepsilon_{n+1}^{\\pm}) \\hspace{0.5cm} \\text{for} \\hspace{0.5cm} n\\geq 2\n",
    "\\end{equation}\n",
    "\n",
    "where\n",
    "\\begin{equation}\n",
    "\\kappa_0(k) = -2\\cos k - 4\\int_{-\\infty}^{\\infty} s(\\Lambda -\\sin k)\\Re [1 - (\\Lambda - iU)^2]^{1/2} d\\Lambda\n",
    "\\end{equation}\n",
    "\n",
    "\\begin{equation}\n",
    "x^+ = (2U-\\mu)/T \\hspace{0.3cm} (=0 \\text{ if half-filling} ), \\hspace{0.5cm} x^- = 0\n",
    "\\end{equation}\n",
    "and\n",
    "\\begin{equation}\n",
    "s*f = \\int_{-\\infty}^{\\infty} s(\\Lambda - \\Lambda')f(\\Lambda')d\\Lambda'\n",
    "\\end{equation}\n",
    "\n",
    "#### Asymptotic conditions\n",
    "\\begin{equation}\n",
    "\\lim_{\\Lambda \\rightarrow \\infty}\\varepsilon_n^{\\pm}(\\Lambda) = 0\n",
    "\\end{equation}\n",
    "\n",
    "\\begin{equation}\n",
    "\\lim_{n\\rightarrow \\infty} \\left[\\varepsilon^{\\pm}_{n+1}(\\Lambda) - \\int_{\\infty}^{\\infty} \\varepsilon_n^{\\pm}(\\Lambda') \\frac{U/\\pi}{(\\Lambda' - \\Lambda)^2 + U^2}d\\Lambda'\\right] = 0\n",
    "\\end{equation}"
   ]
  },
  {
   "cell_type": "markdown",
   "metadata": {},
   "source": [
    "### Implementation\n",
    "#### 1. Solve ground state\n",
    "#### 2. Solve for $\\varepsilon_n^{\\pm}$ and $E_n^{\\pm}$"
   ]
  },
  {
   "cell_type": "code",
   "execution_count": 23,
   "metadata": {
    "collapsed": true
   },
   "outputs": [],
   "source": [
    "import numpy as np\n",
    "from matplotlib import pyplot as plt\n",
    "%matplotlib inline"
   ]
  },
  {
   "cell_type": "code",
   "execution_count": null,
   "metadata": {
    "collapsed": true
   },
   "outputs": [],
   "source": []
  }
 ],
 "metadata": {
  "kernelspec": {
   "display_name": "Python [Root]",
   "language": "python",
   "name": "Python [Root]"
  },
  "language_info": {
   "codemirror_mode": {
    "name": "ipython",
    "version": 2
   },
   "file_extension": ".py",
   "mimetype": "text/x-python",
   "name": "python",
   "nbconvert_exporter": "python",
   "pygments_lexer": "ipython2",
   "version": "2.7.12"
  }
 },
 "nbformat": 4,
 "nbformat_minor": 0
}
