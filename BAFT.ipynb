{
 "cells": [
  {
   "cell_type": "markdown",
   "metadata": {},
   "source": [
    "### Bathe-Ansatz at Finite temperature\n",
    "-- Evaluated at half-filling and $S_z = 0$.\n",
    "      (Referece: https://journals.jps.jp/doi/10.1143/JPSJ.59.1357)\n",
    "\n",
    "#### NOTE that U = U/4 here (we first keep the scaling)\n",
    "\n",
    "The grand potential per site is evaluated by\n",
    "\n",
    "\\begin{equation}\n",
    "\\Omega = e_0 - \\mu - \\int_{-\\pi}^{\\pi} \\rho_0(k)G[\\kappa(k)]dk\n",
    " - \\int_{-\\infty}^{\\infty} \\sigma_0(\\Lambda)[\\varepsilon_1^{-}(\\Lambda) - T\\ln b_1^{-}]d\\Lambda\n",
    "\\end{equation}\n",
    "where $e_0$, $\\rho_0(k)$, $\\sigma_0(\\Lambda)$ are ground state quantities that can be evaluated from ground state BA.\n",
    "\n",
    "The other quantities in the integrations are defined as following\n",
    "\n",
    "\\begin{equation}\n",
    "G(y) = T\\ln [1+\\exp(y/T)], \\hspace{0.5cm} b_n^{\\pm} = \\frac{\\sinh^2 x^{\\pm}}{\\sinh^2 (n+1)x^{\\pm}}  \\hspace{0.3cm} \\left(=\\frac{1}{(n+1)^2} \\text{ if } x^{\\pm} = 0\\right)\n",
    "\\end{equation}\n",
    "\n",
    "\\begin{equation}\n",
    "\\kappa(k) = \\kappa_0(k) + T\\ln\\left(\\frac{\\cosh x^+}{\\cosh x^-}\\right) + \\int_{-\\infty}^{\\infty}s(\\Lambda-\\sin k)\n",
    "[\\varepsilon^+_1(\\Lambda)-\\varepsilon^-_1(\\Lambda)] d\\Lambda\n",
    "\\end{equation}\n",
    "\n",
    "where\n",
    "\\begin{equation}\n",
    "\\kappa_0(k) = -2\\cos k - 4\\int_{-\\infty}^{\\infty} s(\\Lambda -\\sin k)\\Re [1 - (\\Lambda - iU)^2]^{1/2} d\\Lambda\n",
    "\\end{equation}\n",
    "\n",
    "\\begin{equation}\n",
    "\\varepsilon_n^{\\pm}(\\Lambda) = T\\ln \\{b_n^{\\pm}+(1-b_n^{\\pm})\\exp[E_n^{\\pm}(\\Lambda)/T]\\} \\hspace{0.3cm} \\text{for} \\hspace{0.3cm} n\\geq 1\n",
    "\\end{equation}\n",
    "\n",
    "\\begin{equation}\n",
    "E_1^{\\pm}(\\Lambda) = s*\\varepsilon_2^{\\pm}(\\Lambda) - \\int_{-\\pi}^{\\pi} \\cos(k)  s(\\Lambda - \\sin k)G[\\pm \\kappa(k)]d k\n",
    "\\end{equation}\n",
    "\n",
    "and \n",
    "\\begin{equation}\n",
    "E_n^{\\pm}(\\Lambda) = s*(\\varepsilon_{n-1}^{\\pm} + \\varepsilon_{n+1}^{\\pm}) \\hspace{0.5cm} \\text{for} \\hspace{0.5cm} n\\geq 2\n",
    "\\end{equation}\n",
    "\n",
    "\\begin{equation}\n",
    "x^+ = (2U-\\mu)/T \\hspace{0.3cm} (=0 \\text{ if half-filling} ), \\hspace{0.5cm} x^- = 0\n",
    "\\end{equation}\n",
    "and\n",
    "\\begin{equation}\n",
    "s*f = \\int_{-\\infty}^{\\infty} s(\\Lambda - \\Lambda')f(\\Lambda')d\\Lambda'\n",
    "\\end{equation}\n",
    "\n",
    "#### Asymptotic conditions\n",
    "\\begin{equation}\n",
    "\\lim_{\\Lambda \\rightarrow \\infty}\\varepsilon_n^{\\pm}(\\Lambda) = 0\n",
    "\\end{equation}\n",
    "\n",
    "\\begin{equation}\n",
    "\\lim_{n\\rightarrow \\infty} \\left[\\varepsilon^{\\pm}_{n+1}(\\Lambda) - \\int_{\\infty}^{\\infty} \\varepsilon_n^{\\pm}(\\Lambda') \\frac{U/\\pi}{(\\Lambda' - \\Lambda)^2 + U^2}d\\Lambda'\\right] = 0\n",
    "\\end{equation}\n",
    "which gives $\\epsilon_n^{\\pm}\\rightarrow 0$ as $n\\rightarrow \\infty$. $n=12$ is quiet enough."
   ]
  },
  {
   "cell_type": "code",
   "execution_count": 91,
   "metadata": {
    "collapsed": true
   },
   "outputs": [],
   "source": [
    "import numpy as np\n",
    "from matplotlib import pyplot as plt\n",
    "%matplotlib inline"
   ]
  },
  {
   "cell_type": "markdown",
   "metadata": {},
   "source": [
    "### Implementation\n",
    "#### 1. Solve ground state\n",
    "half-filling is much easier with the Bessel functions"
   ]
  },
  {
   "cell_type": "markdown",
   "metadata": {},
   "source": [
    "#### 2. Solve for $\\varepsilon_n^{\\pm}$, $E_n^{\\pm}$ and $\\kappa(k)$.\n",
    "\n",
    "First try: \n",
    "1. Initial guess: E, $\\varepsilon$ all zero. \n",
    "2. Calculate $\\kappa$.\n",
    "3. Solve for $E_n^{\\pm}$ and $\\varepsilon_n^{\\pm}$ with $n = 1, ..., N_m$ assuming $\\varepsilon_{N_m+1}^{\\pm}=0$.\n",
    "4. Repeat Step 2 and Step 3 until convergence.\n",
    "5. Compare $\\kappa$ or $\\varepsilon_1$ to determine convergence"
   ]
  },
  {
   "cell_type": "code",
   "execution_count": 206,
   "metadata": {
    "collapsed": false
   },
   "outputs": [],
   "source": [
    "class BetheAnsatzFT(object):\n",
    "    # half-filling, Sz = 0\n",
    "    def __init__(self, U, T, ngrid):\n",
    "        self.U = U\n",
    "        self.T = T\n",
    "        self.ngrid = ngrid\n",
    "        self.Q = np.pi\n",
    "        self.B = 10\n",
    "        self.kgrid = np.zeros(ngrid)\n",
    "        self.lgrid = np.zeros(ngrid)\n",
    "        self.dk = 2.*self.Q / ngrid\n",
    "        self.dl = 2.*self.B / ngrid\n",
    "        #some functions used in integration functions\n",
    "        self.kappa0 = np.zeros(ngrid)\n",
    "        self.kappa = np.zeros(ngrid)\n",
    "        self.eps1m = np.zeros(ngrid)\n",
    "    \n",
    "    def generate_grids(self):\n",
    "        # symmetrized partition\n",
    "        self.kgrid = np.linspace(-self.Q, self.Q, self.ngrid, endpoint=False)\n",
    "        self.lgrid = np.linspace(-self.B, self.B, self.ngrid, endpoint=False)\n",
    "        self.kgrid += self.dk/2.\n",
    "        self.lgrid += self.dl/2.\n",
    "    def sfunc(self, l, k):\n",
    "        self.s = 1./(4.*self.U*np.cosh(np.pi*(l-k)/(2*self.U)))\n",
    "        return self.s\n",
    "    def kappa0func(self):\n",
    "        kappa0 = np.zeros(self.ngrid)\n",
    "        i = 0\n",
    "        for k in self.kgrid:\n",
    "            kappa0[i] = -2.*np.cos(k) - 4.*self.dl*np.dot(self.sfunc(self.lgrid,np.sin(k)),np.sqrt(1.-(self.lgrid-1.j*self.U)**2).real)\n",
    "            i+=1\n",
    "        self.kappa0 = kappa0\n",
    "        return kappa0\n",
    "    def Gfunc(self, y):\n",
    "        return self.T * np.log(1.+np.exp(y/self.T))\n",
    "    def sconvfunc(self, fl):\n",
    "        convf = np.zeros(self.ngrid)\n",
    "        i = 0\n",
    "        for l in self.lgrid:\n",
    "            convf[i] = self.dl*np.dot(self.sfunc(l, self.lgrid), fl)\n",
    "            i += 1\n",
    "        return convf\n",
    "    # functions to be used in self-consistency\n",
    "    def kappafunc(self, eps1p, eps1m):\n",
    "        kappa = np.zeros(self.ngrid)\n",
    "        self.kappa0 = self.kappa0func()\n",
    "        i = 0\n",
    "        for k in self.kgrid:\n",
    "            kappa[i] = self.dl * np.dot(self.sfunc(self.lgrid, np.sin(k)), eps1p-eps1m)\n",
    "            i += 1\n",
    "        self.kappa = kappa + self.kappa0\n",
    "        return self.kappa\n",
    "    \n",
    "    def epsnfunc(self, n, En):\n",
    "        bn = 1./((n+1.)**2)\n",
    "        return self.T * np.log(bn + (1-bn)*np.exp(En/self.T))\n",
    "    def E1func(self, eps2, p=1.):\n",
    "        # p : parity\n",
    "        E1 = np.zeros(self.ngrid)\n",
    "        i = 0\n",
    "        for l in self.lgrid:\n",
    "            E1[i] = -self.dk * np.dot(np.cos(self.kgrid)*self.sfunc(l,np.sin(self.kgrid)), self.Gfunc(p*self.kappa))\n",
    "            i += 1\n",
    "\n",
    "        E1 += self.sconvfunc(eps2)\n",
    "        return E1\n",
    "    def Enfunc(self, epsm, epsp):\n",
    "        return self.sconvfunc(epsm + epsp)\n",
    "   \n",
    "    def solve_epsilon_scf(self, nstep=50, tol = 1e-6):\n",
    "    \n",
    "        print \"Calculating \"\n",
    "        nmax  = 20\n",
    "        ngrid = self.ngrid\n",
    "        Ep   = np.zeros((nmax+1, ngrid))\n",
    "        Em   = np.zeros((nmax+1, ngrid))\n",
    "        epsp = np.zeros((nmax+1, ngrid))\n",
    "        epsm = np.zeros((nmax+1, ngrid))\n",
    "        # initial guess: eps1p = eps1m, high orders are zero\n",
    "        kappa = self.kappa.copy()\n",
    "        for itr in range(nstep):\n",
    "            self.kappa = self.kappafunc(epsp[0], epsm[0])\n",
    "            Ep[0] = self.E1func(epsp[1], 1.)\n",
    "            Em[0] = self.E1func(epsm[1], -1.)\n",
    "            epsp[0] = self.epsnfunc(1, Ep[0])\n",
    "            epsm[0] = self.epsnfunc(1, Em[0])\n",
    "            for i in range(1, nmax):\n",
    "                Ep[i] = self.sconvfunc(epsp[i-1]+epsp[i+1])\n",
    "                Em[i] = self.sconvfunc(epsm[i-1]+epsm[i+1])\n",
    "                epsp[i] = self.epsnfunc(i+1, Ep[i])\n",
    "                epsm[i] = self.epsnfunc(i+1, Em[i])\n",
    "            diff = np.linalg.norm(self.kappa - kappa)\n",
    "            if diff < tol:\n",
    "                print \"The convergence is achieved after %d loops!\"%(itr+1), \"Final diff:\", diff\n",
    "                break\n",
    "            else:\n",
    "                kappa = self.kappa.copy()\n",
    "        if(itr == nstep):\n",
    "            print \"The convergence is NOT acheived after %d loops\"%nstep\n",
    "        self.eps1m = np.copy(epsm[0])\n",
    "        "
   ]
  },
  {
   "cell_type": "code",
   "execution_count": 207,
   "metadata": {
    "collapsed": false
   },
   "outputs": [
    {
     "name": "stdout",
     "output_type": "stream",
     "text": [
      "The convergence is achieved after 22 loops! Final diff: 8.78699935625e-07\n"
     ]
    }
   ],
   "source": [
    "baobj = BetheAnsatzFT(4,1,10)\n",
    "baobj.generate_grids()\n",
    "baobj.solve_epsilon_scf()"
   ]
  },
  {
   "cell_type": "code",
   "execution_count": null,
   "metadata": {
    "collapsed": true
   },
   "outputs": [],
   "source": []
  }
 ],
 "metadata": {
  "kernelspec": {
   "display_name": "Python [Root]",
   "language": "python",
   "name": "Python [Root]"
  },
  "language_info": {
   "codemirror_mode": {
    "name": "ipython",
    "version": 2
   },
   "file_extension": ".py",
   "mimetype": "text/x-python",
   "name": "python",
   "nbconvert_exporter": "python",
   "pygments_lexer": "ipython2",
   "version": "2.7.12"
  }
 },
 "nbformat": 4,
 "nbformat_minor": 0
}
