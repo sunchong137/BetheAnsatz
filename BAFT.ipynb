{
 "cells": [
  {
   "cell_type": "markdown",
   "metadata": {},
   "source": [
    "### Bathe-Ansatz at Finite temperature\n",
    "-- Evaluated at half-filling and $S_z = 0$.\n",
    "      (Referece: https://journals.jps.jp/doi/10.1143/JPSJ.59.1357)\n",
    "\n",
    "#### NOTE that U = U/4 here (we first keep the scaling)\n",
    "\n",
    "The grand potential per site is evaluated by\n",
    "\n",
    "\\begin{equation}\n",
    "\\Omega = e_0 - \\mu - \\int_{-\\pi}^{\\pi} \\rho_0(k)G[\\kappa(k)]dk\n",
    " - \\int_{-\\infty}^{\\infty} \\sigma_0(\\Lambda)[\\varepsilon_1^{-}(\\Lambda) - T\\ln b_1^{-}]d\\Lambda\n",
    "\\end{equation}\n",
    "where $e_0$, $\\rho_0(k)$, $\\sigma_0(\\Lambda)$ are ground state quantities that can be evaluated from ground state BA.\n",
    "\n",
    "The other quantities in the integrations are defined as following\n",
    "\n",
    "\\begin{equation}\n",
    "G(y) = T\\ln [1+\\exp(y/T)], \\hspace{0.5cm} b_n^{\\pm} = \\frac{\\sinh^2 x^{\\pm}}{\\sinh^2 (n+1)x^{\\pm}}  \\hspace{0.3cm} \\left(=\\frac{1}{(n+1)^2} \\text{ if } x^{\\pm} = 0\\right)\n",
    "\\end{equation}\n",
    "\n",
    "\\begin{equation}\n",
    "\\kappa(k) = \\kappa_0(k) + T\\ln\\left(\\frac{\\cosh x^+}{\\cosh x^-}\\right) + \\int_{-\\infty}^{\\infty}s(\\Lambda-\\sin k)\n",
    "[\\varepsilon^+_1(\\Lambda)-\\varepsilon^-_1(\\Lambda)] d\\Lambda\n",
    "\\end{equation}\n",
    "\n",
    "where\n",
    "\\begin{equation}\n",
    "\\kappa_0(k) = -2\\cos k - 4\\int_{-\\infty}^{\\infty} s(\\Lambda -\\sin k)\\Re [1 - (\\Lambda - iU)^2]^{1/2} d\\Lambda\n",
    "\\end{equation}\n",
    "\n",
    "\\begin{equation}\n",
    "\\varepsilon_n^{\\pm}(\\Lambda) = T\\ln \\{b_n^{\\pm}+(1-b_n^{\\pm})\\exp[E_n^{\\pm}(\\Lambda)/T]\\} \\hspace{0.3cm} \\text{for} \\hspace{0.3cm} n\\geq 1\n",
    "\\end{equation}\n",
    "\n",
    "\\begin{equation}\n",
    "E_1^{\\pm}(\\Lambda) = s*\\varepsilon_2^{\\pm}(\\Lambda) - \\int_{-\\pi}^{\\pi} \\cos(k)  s(\\Lambda - \\sin k)G[\\pm \\kappa(k)]d k\n",
    "\\end{equation}\n",
    "\n",
    "and \n",
    "\\begin{equation}\n",
    "E_n^{\\pm}(\\Lambda) = s*(\\varepsilon_{n-1}^{\\pm} + \\varepsilon_{n+1}^{\\pm}) \\hspace{0.5cm} \\text{for} \\hspace{0.5cm} n\\geq 2\n",
    "\\end{equation}\n",
    "\n",
    "\\begin{equation}\n",
    "x^+ = (2U-\\mu)/T \\hspace{0.3cm} (=0 \\text{ if half-filling} ), \\hspace{0.5cm} x^- = 0\n",
    "\\end{equation}\n",
    "and\n",
    "\\begin{equation}\n",
    "s*f = \\int_{-\\infty}^{\\infty} s(\\Lambda - \\Lambda')f(\\Lambda')d\\Lambda'\n",
    "\\end{equation}\n",
    "\n",
    "#### Asymptotic conditions\n",
    "\\begin{equation}\n",
    "\\lim_{\\Lambda \\rightarrow \\infty}\\varepsilon_n^{\\pm}(\\Lambda) = 0\n",
    "\\end{equation}\n",
    "\n",
    "\\begin{equation}\n",
    "\\lim_{n\\rightarrow \\infty} \\left[\\varepsilon^{\\pm}_{n+1}(\\Lambda) - \\int_{\\infty}^{\\infty} \\varepsilon_n^{\\pm}(\\Lambda') \\frac{U/\\pi}{(\\Lambda' - \\Lambda)^2 + U^2}d\\Lambda'\\right] = 0\n",
    "\\end{equation}\n",
    "which gives $\\epsilon_n^{\\pm}\\rightarrow 0$ as $n\\rightarrow \\infty$. $n=12$ is quiet enough."
   ]
  },
  {
   "cell_type": "code",
   "execution_count": 91,
   "metadata": {
    "collapsed": true
   },
   "outputs": [],
   "source": [
    "import numpy as np\n",
    "from matplotlib import pyplot as plt\n",
    "%matplotlib inline"
   ]
  },
  {
   "cell_type": "markdown",
   "metadata": {},
   "source": [
    "### Implementation\n",
    "#### 1. Solve ground state\n",
    "half-filling is much easier with the Bessel functions"
   ]
  },
  {
   "cell_type": "markdown",
   "metadata": {},
   "source": [
    "#### 2. Solve for $\\varepsilon_n^{\\pm}$, $E_n^{\\pm}$ and $\\kappa(k)$.\n",
    "\n",
    "First try: \n",
    "1. Initial guess for $E_1^{\\pm}$.\n",
    "2. Solve for $\\varepsilon_n^{\\pm}$, $E_n^{\\pm}$ with $n = 2, ..., N_m$ assuming $\\varepsilon_{n+1}^{\\pm}=0$.\n",
    "3. Solve back with the knowledge of new $\\varepsilon_n^{\\pm}$, $E_n^{\\pm}$.\n",
    "4. Compare $\\varepsilon_1^{\\pm}$ to see if convergence reached.\n"
   ]
  },
  {
   "cell_type": "code",
   "execution_count": 124,
   "metadata": {
    "collapsed": true
   },
   "outputs": [],
   "source": [
    "class BetheAnsatzFT(object):\n",
    "    # half-filling, Sz = 0\n",
    "    def __init__(self, U, T, ngrid):\n",
    "        self.U = U\n",
    "        self.T = T\n",
    "        self.ngrid = ngrid\n",
    "        self.Q = np.pi\n",
    "        self.B = 10\n",
    "        self.kgrid = np.zeros(ngrid)\n",
    "        self.lgrid = np.zeros(ngrid)\n",
    "        self.dk = 2.*self.Q / ngrid\n",
    "        self.dl = 2.*self.B / ngrid\n",
    "        #some functions used in integration functions\n",
    "        self.kappa0 = np.zeros(ngrid)\n",
    "    \n",
    "    def generate_grids(self):\n",
    "        # symmetrized partition\n",
    "        self.kgrid = np.linspace(-self.Q, self.Q, self.ngrid, endpoint=False)\n",
    "        self.lgrid = np.linspace(-self.B, self.B, self.ngrid, endpoint=False)\n",
    "        self.kgrid += self.dk/2.\n",
    "        self.lgrid += self.dl/2.\n",
    "    def sfunc(self, l, k):\n",
    "        self.s = 1./(4.*self.U*np.cosh(np.pi*(l-np.sin(k))/(2*self.U)))\n",
    "        return self.s\n",
    "    def kappa0func(self):\n",
    "        kappa0 = np.zeros(self.ngrid)\n",
    "        i = 0\n",
    "        for k in self.kgrid:\n",
    "            kappa0[i] = -2.*np.cos(k) - 4.*self.dl*np.dot(self.sfunc(self.lgrid,k), np.sqrt(1.-(self.lgrid-1.j*self.U)**2).real)\n",
    "            i+=1\n",
    "        self.kappa0 = kappa0\n",
    "    def Gfunc(self, y):\n",
    "        return self.T * np.log(1.+np.exp(y/self.T))\n",
    "    def sconv(self, f):\n",
    "        #TODO\n",
    "        \n",
    "    # functions to be used in self-consistency\n",
    "    def kappafunc(self, eps1p, eps1m):\n",
    "        kappa = np.zeros(self.ngrid)\n",
    "        i = 0\n",
    "        for k in self.kgrid:\n",
    "            kappa[i] = self.dl * np.dot(self.sfunc(self.lgrid, k), eps1p-eps1m)\n",
    "            i += 1\n",
    "        return kappa + self.kappa0\n",
    "    def epsfunc(self, n, En):\n",
    "        bn = 1./((n+1.)**2)\n",
    "        return self.T * np.log(bn + (1-bn)*np.exp(En/self.T))\n",
    "    def E1func(self, eps2):\n",
    "        pass\n",
    "        "
   ]
  },
  {
   "cell_type": "code",
   "execution_count": 125,
   "metadata": {
    "collapsed": false
   },
   "outputs": [
    {
     "data": {
      "text/plain": [
       "array([-6.0722544 , -6.78853775, -7.95764357, -9.13967875, -9.87648047,\n",
       "       -9.87648047, -9.13967875, -7.95764357, -6.78853775, -6.0722544 ])"
      ]
     },
     "execution_count": 125,
     "metadata": {},
     "output_type": "execute_result"
    }
   ],
   "source": [
    "baobj = BetheAnsatzFT(4,1,10)\n",
    "baobj.generate_grids()\n",
    "baobj.sfunc(np.pi, 2)\n",
    "baobj.kappa0func()"
   ]
  },
  {
   "cell_type": "code",
   "execution_count": 81,
   "metadata": {
    "collapsed": false
   },
   "outputs": [
    {
     "data": {
      "text/plain": [
       "0.005917159763313609"
      ]
     },
     "execution_count": 81,
     "metadata": {},
     "output_type": "execute_result"
    }
   ],
   "source": [
    "1./(13**2)"
   ]
  },
  {
   "cell_type": "code",
   "execution_count": null,
   "metadata": {
    "collapsed": true
   },
   "outputs": [],
   "source": [
    "exp()"
   ]
  },
  {
   "cell_type": "code",
   "execution_count": null,
   "metadata": {
    "collapsed": true
   },
   "outputs": [],
   "source": []
  }
 ],
 "metadata": {
  "kernelspec": {
   "display_name": "Python [Root]",
   "language": "python",
   "name": "Python [Root]"
  },
  "language_info": {
   "codemirror_mode": {
    "name": "ipython",
    "version": 2
   },
   "file_extension": ".py",
   "mimetype": "text/x-python",
   "name": "python",
   "nbconvert_exporter": "python",
   "pygments_lexer": "ipython2",
   "version": "2.7.12"
  }
 },
 "nbformat": 4,
 "nbformat_minor": 0
}
