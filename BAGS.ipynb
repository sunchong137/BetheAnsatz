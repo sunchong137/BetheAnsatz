{
 "cells": [
  {
   "cell_type": "markdown",
   "metadata": {},
   "source": [
    "### Related equations\n",
    "(arxiv: https://arxiv.org/abs/cond-mat/0207529)\n",
    "\n",
    "The distribution of real numbers $k$ (between $-Q$ and $Q$) and $\\Lambda$ (between $-B$ and $B$) are derived in this script, where $0 < Q \\leq \\pi$ and $0 < B \\leq \\infty$. The distributions are normalized by\n",
    "\\begin{equation}\n",
    "\\int_{-Q}^{Q} \\rho(k)dk = N/N_a \\hspace{0.3cm} (\\text{filling}) , \\hspace{0.5cm} \\int_{-B}^{B} \\sigma(\\Lambda)d\\Lambda = M/N_a \\hspace{0.3cm} (\\text{density of down spin})\n",
    "\\end{equation}\n",
    "\n",
    "The equations to solve $\\rho(k)$ and $\\sigma(\\Lambda)$ are\n",
    "\\begin{equation}\n",
    "\\rho(k) = \\frac{1}{2\\pi}+\\cos k\\int_{-B}^{B} K(\\sin k - \\Lambda)\\sigma(\\Lambda)d\\Lambda\n",
    "\\end{equation}\n",
    "\\begin{equation}\n",
    "\\sigma(\\Lambda) = \\int_{-Q}^{Q} K(\\sin k -\\Lambda)\\rho(k)dk - \\int_{-B}^{B} K^2(\\Lambda-\\Lambda')\\sigma(\\Lambda')d\\Lambda'\n",
    "\\end{equation}\n",
    "where\n",
    "\\begin{equation}\n",
    "K(\\Lambda - \\Lambda') = \\frac{1}{2\\pi}\\left[\\frac{8U}{U^2 + 16(\\Lambda-\\Lambda')^2}\\right]\n",
    "\\end{equation}\n",
    "\\begin{equation}\n",
    "K^2(\\Lambda - \\Lambda') = \\frac{1}{2\\pi}\\left[\\frac{4U}{U^2 + 4(\\Lambda-\\Lambda')^2}\\right]\n",
    "\\end{equation}\n",
    "Half-filling and $S_z = 0$\n",
    "$$Q = \\pi, \\hspace{0.5cm} B = \\infty$$ \n",
    "\n",
    "Energy is\n",
    "$$E(M, N) = -2N_a \\int_{-Q}^{Q} \\rho(k)\\cos kdk$$"
   ]
  },
  {
   "cell_type": "markdown",
   "metadata": {},
   "source": [
    "### Implementation\n",
    "Rewrite integral equations of $\\rho(k)$ and $\\sigma(\\Lambda)$ with descrete formula (matrix representation).\n",
    "\\begin{equation}\n",
    "P_k = C^0_k + C_k * K_{kl}S_l\n",
    "\\end{equation}\n",
    "\\begin{equation}\n",
    "S_l = K_{kl}P_k - K^2_{ll'}S_l\n",
    "\\end{equation}\n",
    "where $\\rho(k) \\rightarrow P_k$, $\\sigma(\\Lambda) \\rightarrow S_l$, $\\frac{1}{2\\pi} \\rightarrow C^0_k$, $\\cos k\\rightarrow C_k$, $K(\\sin k-\\Lambda)\\rightarrow K_{kl}$, and $K^2(\\Lambda-\\Lambda')\\rightarrow K^2_{ll'}$.\n",
    "\n",
    "Let  If we concatenate $P_k$ and $S_l$, we get\n",
    "\\begin{equation}\n",
    "\\begin{pmatrix}I & -CK \\\\ -K & I+K^2\\end{pmatrix}\n",
    "\\begin{pmatrix}P \\\\ S\\end{pmatrix} \n",
    "= \\begin{pmatrix}C^0 \\\\ 0\\end{pmatrix}\n",
    "\\end{equation}"
   ]
  },
  {
   "cell_type": "code",
   "execution_count": 2,
   "metadata": {
    "collapsed": false
   },
   "outputs": [],
   "source": [
    "import numpy as np"
   ]
  },
  {
   "cell_type": "code",
   "execution_count": 14,
   "metadata": {
    "collapsed": true
   },
   "outputs": [],
   "source": [
    "class BatheAnsatzGS(object):\n",
    "    def __init__(self,U, filling=0.5, nspind=None, ngrid=20):\n",
    "        self.U = U\n",
    "        self.filling = filling\n",
    "        self.nspind = nspind\n",
    "        # initialization \n",
    "        self.Q = np.pi \n",
    "        self.B = 20. \n",
    "        self.kgrid = np.zeros(ngrid)\n",
    "        self.lgrid = np.zeros(ngrid)\n",
    "        self.rhok = np.zeros(ngrid)\n",
    "        self.sigl = np.zeros(ngrid)\n",
    "        \n",
    "    def K_func(self, k, l):\n",
    "        U = self.U\n",
    "        return 8.*U/(2.*np.pi*(U**2 + 16*(np.sin(k)-l)**2))\n",
    "    def K2_func(self, x, xp):\n",
    "        U = self.U\n",
    "        return 4.*U/(2.*np.pi*(U**2 + 4*(x-xp)**2))\n",
    "    def energy_per_site(self):\n",
    "        return -2.*np.dot(self.rhok, np.cos(self.kgrid))\n",
    "    def solve_density(self):\n",
    "        ngrid = self.ngrid\n",
    "        Cmat = np.zeros((ngrid*2,)*2)\n",
    "        Kmat = np.zeros((ngrid,ngrid))\n",
    "        K2mat = np.zeros((ngrid,ngrid))\n",
    "        for k in range(ngrid):\n",
    "            for l in range(ngrid):\n",
    "                Kmat[k,l] = self.K_func(self.kgrid[k], self.lgrid[l])\n",
    "                K2mat[k,l] = self.K2_func(self.lgrid[k], self.lgrid[l])\n",
    "        Cmat[:ngrid, :ngrid] = np.eye(ngrid)\n",
    "        Cmat[:ngrid, ngrid:] = -np.diag(np.cos(self.kgrid)).dot(Kmat)\n",
    "        Cmat[ngrid:, :ngrid] = -Kmat\n",
    "        Cmat[ngrid:, ngrid:] = np.eye(ngrid)+K2mat\n",
    "        \n",
    "        const_vec = np.zeros(ngrid*2)\n",
    "        const_vec[:ngrid] = np.ones(ngrid)/(2.*np.pi)\n",
    "        # TODO solve the matrix*vec = vec equation"
   ]
  },
  {
   "cell_type": "code",
   "execution_count": null,
   "metadata": {
    "collapsed": true
   },
   "outputs": [],
   "source": []
  }
 ],
 "metadata": {
  "kernelspec": {
   "display_name": "Python [Root]",
   "language": "python",
   "name": "Python [Root]"
  },
  "language_info": {
   "codemirror_mode": {
    "name": "ipython",
    "version": 2
   },
   "file_extension": ".py",
   "mimetype": "text/x-python",
   "name": "python",
   "nbconvert_exporter": "python",
   "pygments_lexer": "ipython2",
   "version": "2.7.12"
  }
 },
 "nbformat": 4,
 "nbformat_minor": 0
}
