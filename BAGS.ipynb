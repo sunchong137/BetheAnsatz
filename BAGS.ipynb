{
 "cells": [
  {
   "cell_type": "markdown",
   "metadata": {},
   "source": [
    "### Related equations\n",
    "(arxiv: https://arxiv.org/abs/cond-mat/0207529)\n",
    "\n",
    "The distribution of real numbers $k$ (between $-Q$ and $Q$) and $\\Lambda$ (between $-B$ and $B$) are derived in this script, where $0 < Q \\leq \\pi$ and $0 < B \\leq \\infty$. The distributions are normalized by\n",
    "\\begin{equation}\n",
    "\\int_{-Q}^{Q} \\rho(k)dk = N/N_a \\hspace{0.3cm} (\\text{filling}) , \\hspace{0.5cm} \\int_{-B}^{B} \\sigma(\\Lambda)d\\Lambda = M/N_a \\hspace{0.3cm} (\\text{density of down spin})\n",
    "\\end{equation}\n",
    "\n",
    "The equations to solve $\\rho(k)$ and $\\sigma(\\Lambda)$ are\n",
    "\\begin{equation}\n",
    "\\rho(k) = \\frac{1}{2\\pi}+\\cos k\\int_{-B}^{B} K(\\sin k - \\Lambda)\\sigma(\\Lambda)d\\Lambda\n",
    "\\end{equation}\n",
    "\\begin{equation}\n",
    "\\sigma(\\Lambda) = \\int_{-Q}^{Q} K(\\sin k -\\Lambda)\\rho(k)dk - \\int_{-B}^{B} K^2(\\Lambda-\\Lambda')\\sigma(\\Lambda')d\\Lambda'\n",
    "\\end{equation}\n",
    "where\n",
    "\\begin{equation}\n",
    "K(\\Lambda - \\Lambda') = \\frac{1}{2\\pi}\\left[\\frac{8U}{U^2 + 16(\\Lambda-\\Lambda')^2}\\right]\n",
    "\\end{equation}\n",
    "\\begin{equation}\n",
    "K^2(\\Lambda - \\Lambda') = \\frac{1}{2\\pi}\\left[\\frac{4U}{U^2 + 4(\\Lambda-\\Lambda')^2}\\right]\n",
    "\\end{equation}\n",
    "Half-filling and $S_z = 0$\n",
    "$$Q = \\pi, \\hspace{0.5cm} B = \\infty$$ \n",
    "\n",
    "Energy is\n",
    "$$E(M, N) = -2N_a \\int_{-Q}^{Q} \\rho(k)\\cos kdk$$"
   ]
  },
  {
   "cell_type": "markdown",
   "metadata": {},
   "source": [
    "### Implementation\n",
    "Rewrite integral equations of $\\rho(k)$ and $\\sigma(\\Lambda)$ with descrete formula (matrix representation).\n",
    "\n",
    "\\begin{equation}\n",
    "rho_k = C^0_k + C_k * K_{kl}D^l_{ll}\\sigma_l\n",
    "\\end{equation}\n",
    "\n",
    "\\begin{equation}\n",
    "\\sigma_l = K_{kl}D^k_{kk}\\rho_k - K^2_{ll'}D^l_{l'l'}\\sigma_l\n",
    "\\end{equation}\n",
    "\n",
    "where $\\rho(k) \\rightarrow \\rho_k$, $\\sigma(\\Lambda) \\rightarrow \\sigma_l$, $\\frac{1}{2\\pi} \\rightarrow C^0_k$, $\\cos k\\rightarrow C_k$, $K(\\sin k-\\Lambda)\\rightarrow K_{kl}$, and $K^2(\\Lambda-\\Lambda')\\rightarrow K^2_{ll'}$.\n",
    "\n",
    "$D^k$ and $D^l$ are identity matrices multiplied by $dk$ and $dl$ respectively."
   ]
  },
  {
   "cell_type": "markdown",
   "metadata": {},
   "source": [
    "Let  If we concatenate $P_k$ and $S_l$, we get\n",
    "\\begin{equation}\n",
    "\\begin{pmatrix}I & -CKD^l \\\\ -K^TD^k & I+D^l(K^2)^T\\end{pmatrix}\n",
    "\\begin{pmatrix}P \\\\ S\\end{pmatrix} \n",
    "= \\begin{pmatrix}C^0 \\\\ 0\\end{pmatrix}\n",
    "\\end{equation}"
   ]
  },
  {
   "cell_type": "code",
   "execution_count": 128,
   "metadata": {
    "collapsed": false
   },
   "outputs": [],
   "source": [
    "import numpy as np\n",
    "from matplotlib import pyplot as plt\n",
    "%matplotlib inline"
   ]
  },
  {
   "cell_type": "code",
   "execution_count": 171,
   "metadata": {
    "collapsed": true
   },
   "outputs": [],
   "source": [
    "class BatheAnsatzGS(object):\n",
    "    def __init__(self,U, filling=1, ngrid=20, tol=5e-2, maxiter=50):\n",
    "        # Assume that Sz = 0\n",
    "        self.U = U\n",
    "        self.filling = filling\n",
    "        # initialization \n",
    "        self.Q = np.pi \n",
    "        self.B = 0 \n",
    "        self.Qmax = np.pi\n",
    "        self.Bmax = 20\n",
    "        self.ngrid = ngrid\n",
    "        self.kgrid = np.zeros(ngrid)\n",
    "        self.lgrid = np.zeros(ngrid)\n",
    "        self.rhok = np.zeros(ngrid)\n",
    "        self.sigl = np.zeros(ngrid)\n",
    "        self.tol = tol\n",
    "        self.maxiter = maxiter\n",
    "        \n",
    "    def K_func(self, k, l):\n",
    "        U = self.U\n",
    "        return 8.*U/(2.*np.pi*(U**2 + 16*(np.sin(k)-l)**2))\n",
    "    def K2_func(self, x, xp):\n",
    "        U = self.U\n",
    "        return 4.*U/(2.*np.pi*(U**2 + 4*(x-xp)**2))\n",
    "    def energy_per_site(self):\n",
    "        dk = self.kgrid[1]-self.kgrid[0]\n",
    "        return -2.*np.dot(self.rhok, np.cos(self.kgrid))*dk\n",
    "    def get_filling(self):\n",
    "        dk = self.kgrid[1]-self.kgrid[0]\n",
    "        return np.sum(self.rhok)*dk\n",
    "    def get_spindown(self):\n",
    "        dl = self.lgrid[1]-self.lgrid[0]\n",
    "        return np.sum(self.sigl)*dl\n",
    "    \n",
    "    def solve_density(self):\n",
    "        ngrid = self.ngrid\n",
    "        dk = self.kgrid[1]-self.kgrid[0]\n",
    "        dl = self.lgrid[1]-self.lgrid[0]\n",
    "        Cmat = np.zeros((ngrid*2,)*2)\n",
    "        Kmat = np.zeros((ngrid,ngrid))\n",
    "        K2mat = np.zeros((ngrid,ngrid))\n",
    "        for k in range(ngrid):\n",
    "            for l in range(ngrid):\n",
    "                Kmat[k,l] = self.K_func(self.kgrid[k], self.lgrid[l])\n",
    "                K2mat[k,l] = self.K2_func(self.lgrid[k], self.lgrid[l])\n",
    "        Cmat[:ngrid, :ngrid] = np.eye(ngrid)\n",
    "        Cmat[:ngrid, ngrid:] = -np.dot(np.dot(np.diag(np.cos(self.kgrid)), Kmat), np.eye(ngrid)*dl)\n",
    "        Cmat[ngrid:, :ngrid] = -np.dot(np.eye(ngrid)*dk, Kmat.T)\n",
    "        Cmat[ngrid:, ngrid:] = np.eye(ngrid)+np.dot(np.eye(ngrid)*dl,K2mat.T)\n",
    "        const_vec = np.zeros(ngrid*2)\n",
    "        const_vec[:ngrid] = np.ones(ngrid)/(2.*np.pi)\n",
    "        results = np.linalg.solve(Cmat, const_vec)\n",
    "        self.rhok = results[:ngrid]\n",
    "        self.sigl = results[ngrid:]\n",
    "        \n",
    "    def kernel(self):\n",
    "        Qmin = 0.01\n",
    "        Bmin = 0\n",
    "        nstep = self.maxiter\n",
    "        self.Q = Qmin\n",
    "        self.B = self.Bmax\n",
    "        dQ = (self.Qmax - Qmin)/nstep\n",
    "        dB = (self.Bmax - Bmin)/nstep\n",
    "        for i in range(self.maxiter):\n",
    "            self.kgrid = np.linspace(-self.Q, self.Q, self.ngrid)\n",
    "            self.lgrid = np.linspace(-self.B, self.B, self.ngrid)\n",
    "            self.solve_density()\n",
    "            tmp_fill = self.get_filling()\n",
    "            #print \"filling:\", tmp_fill\n",
    "            tmp_spind = self.get_spindown()\n",
    "            diff = abs(tmp_fill-self.filling)\n",
    "            #print \"diff: \", diff\n",
    "            if(diff < self.tol):\n",
    "                print \"The calculation converged with %d loops!\\n\"%(i+1)\n",
    "                break\n",
    "            if (i==self.maxiter-1):\n",
    "                print \"The calculation did not converge after %d loops!\\n\"%(self.maxiter)\n",
    "            self.Q += dQ\n",
    "            #self.B += dB\n",
    "        energy = self.energy_per_site()\n",
    "        print \"Final filling: %0.4f\\n\"%tmp_fill\n",
    "        print \"Final density of spin down: %0.4f\\n\"%self.get_spindown()\n",
    "        print \"Energy per site at U = %0.2f: %0.6f\\n\"%(U, energy)\n",
    "        return energy"
   ]
  },
  {
   "cell_type": "code",
   "execution_count": 176,
   "metadata": {
    "collapsed": false
   },
   "outputs": [],
   "source": [
    "U = 1\n",
    "ba = BatheAnsatzGS(U, filling=1, ngrid=50, tol=1e-3, maxiter=100)"
   ]
  },
  {
   "cell_type": "code",
   "execution_count": 177,
   "metadata": {
    "collapsed": false
   },
   "outputs": [
    {
     "name": "stdout",
     "output_type": "stream",
     "text": [
      "The calculation converged with 99 loops!\n",
      "\n",
      "Final filling: 1.0000\n",
      "\n",
      "Final density of spin down: 0.4540\n",
      "\n",
      "Energy per site at U = 1.00: -0.949685\n",
      "\n"
     ]
    },
    {
     "data": {
      "text/plain": [
       "-0.94968504177485857"
      ]
     },
     "execution_count": 177,
     "metadata": {},
     "output_type": "execute_result"
    }
   ],
   "source": [
    "ba.kernel()"
   ]
  },
  {
   "cell_type": "code",
   "execution_count": null,
   "metadata": {
    "collapsed": true
   },
   "outputs": [],
   "source": []
  },
  {
   "cell_type": "code",
   "execution_count": null,
   "metadata": {
    "collapsed": true
   },
   "outputs": [],
   "source": []
  }
 ],
 "metadata": {
  "kernelspec": {
   "display_name": "Python [Root]",
   "language": "python",
   "name": "Python [Root]"
  },
  "language_info": {
   "codemirror_mode": {
    "name": "ipython",
    "version": 2
   },
   "file_extension": ".py",
   "mimetype": "text/x-python",
   "name": "python",
   "nbconvert_exporter": "python",
   "pygments_lexer": "ipython2",
   "version": "2.7.12"
  }
 },
 "nbformat": 4,
 "nbformat_minor": 0
}
